{
 "cells": [
  {
   "cell_type": "code",
   "execution_count": 7,
   "metadata": {},
   "outputs": [],
   "source": [
    "import numpy\n",
    "import pandas as pd\n",
    "import os\n",
    "from pathlib import Path\n",
    "import json\n"
   ]
  },
  {
   "cell_type": "code",
   "execution_count": 8,
   "metadata": {},
   "outputs": [],
   "source": [
    "def get_metric(root: Path, run: str, metric_name: str, metric_full_name: str):\n",
    "    file = os.path.join(root, run, f'metrics/mean/{metric_name}/results/aggregate/evaluation.json')\n",
    "    with open(file) as f:\n",
    "        info = json.load(f)\n",
    "    return info[f'{metric_full_name}']\n",
    "    "
   ]
  },
  {
   "cell_type": "code",
   "execution_count": 9,
   "metadata": {},
   "outputs": [
    {
     "name": "stdout",
     "output_type": "stream",
     "text": [
      "['factorvae-s1', 'btcvae-s2', 'bvae-s1', 'btcvae-s0', 'factorvae-s0', 'dipvae-s1', 'bvae-s2', 'bvae-s0', 'dipvae-s0', 'btcvae-s1', 'dipvae-s2', 'factorvae-s2']\n",
      "      method sap_score      \n",
      "                  mean   std\n",
      "0     btcvae      0.07  0.00\n",
      "1       bvae      0.05  0.03\n",
      "2     dipvae      0.02  0.03\n",
      "3  factorvae      0.05  0.02\n",
      "      method   mig      \n",
      "              mean   std\n",
      "0     btcvae  0.17  0.06\n",
      "1       bvae  0.10  0.05\n",
      "2     dipvae  0.04  0.05\n",
      "3  factorvae  0.18  0.13\n",
      "      method modularity      \n",
      "                   mean   std\n",
      "0     btcvae       0.85  0.03\n",
      "1       bvae       0.82  0.04\n",
      "2     dipvae       0.84  0.03\n",
      "3  factorvae       0.77  0.04\n",
      "      method   dci      \n",
      "              mean   std\n",
      "0     btcvae  0.37  0.07\n",
      "1       bvae  0.22  0.07\n",
      "2     dipvae  0.08  0.06\n",
      "3  factorvae  0.30  0.18\n"
     ]
    }
   ],
   "source": [
    "folder = '3dshapes_eval'\n",
    "root = Path(folder)\n",
    "runs = os.listdir(root)\n",
    "print(runs)\n",
    "\n",
    "algorithm = []\n",
    "seed = []\n",
    "sap_score = []\n",
    "mig = []\n",
    "modularity = []\n",
    "dci = []\n",
    "for run in runs:\n",
    "    splitted_name = run.split('-')\n",
    "    algorithm.append('-'.join(splitted_name[:-1]))\n",
    "    seed.append(splitted_name[-1][-1])\n",
    "    sap_score.append(get_metric(root, run, 'sap_score', 'evaluation_results.SAP_score'))\n",
    "    mig.append(get_metric(root, run, 'mig', 'evaluation_results.discrete_mig'))\n",
    "    modularity.append(get_metric(root, run, 'modularity_explicitness', 'evaluation_results.modularity_score'))\n",
    "    dci.append(get_metric(root, run, 'dci', 'evaluation_results.disentanglement'))\n",
    "df = pd.DataFrame.from_dict(\n",
    "    {'method': algorithm,\n",
    "     'seed': seed,\n",
    "     'sap_score': sap_score,\n",
    "     'mig': mig,\n",
    "     'modularity': modularity,\n",
    "     'dci': dci}\n",
    ")\n",
    "mean_std = df.groupby(['method'], as_index=False).agg({'sap_score':['mean','std']}).round(2)\n",
    "print(mean_std)\n",
    "mean_std = df.groupby(['method'], as_index=False).agg({'mig':['mean','std']}).round(2)\n",
    "print(mean_std)\n",
    "mean_std = df.groupby(['method'], as_index=False).agg({'modularity':['mean','std']}).round(2)\n",
    "print(mean_std)\n",
    "mean_std = df.groupby(['method'], as_index=False).agg({'dci':['mean','std']}).round(2)\n",
    "print(mean_std)"
   ]
  }
 ],
 "metadata": {
  "kernelspec": {
   "display_name": "Python 3",
   "language": "python",
   "name": "python3"
  },
  "language_info": {
   "codemirror_mode": {
    "name": "ipython",
    "version": 3
   },
   "file_extension": ".py",
   "mimetype": "text/x-python",
   "name": "python",
   "nbconvert_exporter": "python",
   "pygments_lexer": "ipython3",
   "version": "3.8.8"
  }
 },
 "nbformat": 4,
 "nbformat_minor": 2
}
